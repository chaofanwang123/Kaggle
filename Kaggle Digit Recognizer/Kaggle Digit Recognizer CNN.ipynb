{
 "cells": [
  {
   "cell_type": "markdown",
   "metadata": {},
   "source": [
    "# Kaggle Digit Recognizer using CNN\n",
    "\n",
    "First let us import required modules,"
   ]
  },
  {
   "cell_type": "code",
   "execution_count": 1,
   "metadata": {},
   "outputs": [
    {
     "name": "stderr",
     "output_type": "stream",
     "text": [
      "E:\\software\\anaconda3\\lib\\site-packages\\h5py\\__init__.py:36: FutureWarning: Conversion of the second argument of issubdtype from `float` to `np.floating` is deprecated. In future, it will be treated as `np.float64 == np.dtype(float).type`.\n",
      "  from ._conv import register_converters as _register_converters\n"
     ]
    }
   ],
   "source": [
    "import pandas as pd\n",
    "import numpy as np\n",
    "import tensorflow as tf\n",
    "from tensorflow.keras.models import Sequential\n",
    "from tensorflow.keras.layers import MaxPool2D, Conv2D, Dense, Flatten, Dropout\n",
    "from matplotlib import pyplot as plt"
   ]
  },
  {
   "cell_type": "markdown",
   "metadata": {},
   "source": [
    "Now load train and test data,"
   ]
  },
  {
   "cell_type": "code",
   "execution_count": 2,
   "metadata": {},
   "outputs": [],
   "source": [
    "train=pd.read_csv('train.csv')\n",
    "test=pd.read_csv('test.csv')\n",
    "\n",
    "Y_train=train['label'].values\n",
    "# obtain output class, total of 10 classes\n",
    "num_class=len(set(Y_train))"
   ]
  },
  {
   "cell_type": "markdown",
   "metadata": {},
   "source": [
    "We need to implement one-hot manipulation for categorical targets,"
   ]
  },
  {
   "cell_type": "code",
   "execution_count": 3,
   "metadata": {},
   "outputs": [
    {
     "data": {
      "text/plain": [
       "(42000, 10)"
      ]
     },
     "execution_count": 3,
     "metadata": {},
     "output_type": "execute_result"
    }
   ],
   "source": [
    "y_train=np.zeros((Y_train.size, Y_train.max()+1))\n",
    "y_train[np.arange(Y_train.size),Y_train]=1\n",
    "\n",
    "y_train.shape"
   ]
  },
  {
   "cell_type": "markdown",
   "metadata": {},
   "source": [
    "Obtain 'x_train' data with the original shape of [:, 784], reshape the data to [:,28,28] and normalized the value by dividing 255,"
   ]
  },
  {
   "cell_type": "code",
   "execution_count": 4,
   "metadata": {},
   "outputs": [
    {
     "data": {
      "text/plain": [
       "(42000, 28, 28, 1)"
      ]
     },
     "execution_count": 4,
     "metadata": {},
     "output_type": "execute_result"
    }
   ],
   "source": [
    "x_train=train.drop(columns='label').values\n",
    "x_train=np.reshape(x_train,(x_train.shape[0],28,28,1))/255\n",
    "\n",
    "x_train.shape"
   ]
  },
  {
   "cell_type": "markdown",
   "metadata": {},
   "source": [
    "Load, reshape and normalize test data,"
   ]
  },
  {
   "cell_type": "code",
   "execution_count": 5,
   "metadata": {},
   "outputs": [],
   "source": [
    "X_test=test.values\n",
    "X_test=np.reshape(X_test,(X_test.shape[0],28,28,1))\n",
    "\n",
    "x_test=X_test/255"
   ]
  },
  {
   "cell_type": "markdown",
   "metadata": {},
   "source": [
    "Define CNN models (here a two-layer CNN is used, no need to be complicated),"
   ]
  },
  {
   "cell_type": "code",
   "execution_count": 6,
   "metadata": {},
   "outputs": [
    {
     "name": "stdout",
     "output_type": "stream",
     "text": [
      "_________________________________________________________________\n",
      "Layer (type)                 Output Shape              Param #   \n",
      "=================================================================\n",
      "conv2d (Conv2D)              (None, 28, 28, 64)        640       \n",
      "_________________________________________________________________\n",
      "max_pooling2d (MaxPooling2D) (None, 14, 14, 64)        0         \n",
      "_________________________________________________________________\n",
      "dropout (Dropout)            (None, 14, 14, 64)        0         \n",
      "_________________________________________________________________\n",
      "conv2d_1 (Conv2D)            (None, 14, 14, 32)        18464     \n",
      "_________________________________________________________________\n",
      "max_pooling2d_1 (MaxPooling2 (None, 7, 7, 32)          0         \n",
      "_________________________________________________________________\n",
      "dropout_1 (Dropout)          (None, 7, 7, 32)          0         \n",
      "_________________________________________________________________\n",
      "flatten (Flatten)            (None, 1568)              0         \n",
      "_________________________________________________________________\n",
      "dense (Dense)                (None, 128)               200832    \n",
      "_________________________________________________________________\n",
      "dropout_2 (Dropout)          (None, 128)               0         \n",
      "_________________________________________________________________\n",
      "dense_1 (Dense)              (None, 10)                1290      \n",
      "=================================================================\n",
      "Total params: 221,226\n",
      "Trainable params: 221,226\n",
      "Non-trainable params: 0\n",
      "_________________________________________________________________\n"
     ]
    }
   ],
   "source": [
    "# model parameters\n",
    "filters1=64\n",
    "filters2=32\n",
    "kernel_size=(3,3)\n",
    "\n",
    "# start building models\n",
    "model=Sequential()\n",
    "model.add(Conv2D(filters=filters1,kernel_size=kernel_size,padding='same', input_shape=(28,28,1)))\n",
    "model.add(MaxPool2D(pool_size=(2,2)))\n",
    "model.add(Dropout(0.7))\n",
    "\n",
    "model.add(Conv2D(filters=filters2,kernel_size=kernel_size,padding='same'))\n",
    "model.add(MaxPool2D(pool_size=(2,2)))\n",
    "model.add(Dropout(0.7))\n",
    "\n",
    "model.add(Flatten())\n",
    "model.add(Dense(128,activation=tf.nn.relu))\n",
    "model.add(Dropout(0.7))\n",
    "model.add(Dense(num_class,activation='softmax'))\n",
    "\n",
    "model.compile(loss='categorical_crossentropy',optimizer='adam',metrics=['accuracy'])\n",
    "# check model structure\n",
    "model.summary()"
   ]
  },
  {
   "cell_type": "markdown",
   "metadata": {},
   "source": [
    "Train the above CNN model, a validation_split of 0.2 is used,"
   ]
  },
  {
   "cell_type": "code",
   "execution_count": 7,
   "metadata": {},
   "outputs": [
    {
     "name": "stdout",
     "output_type": "stream",
     "text": [
      "Train on 33600 samples, validate on 8400 samples\n",
      "Epoch 1/30\n",
      "33600/33600 [==============================] - 55s 2ms/step - loss: 1.1567 - acc: 0.6062 - val_loss: 0.3175 - val_acc: 0.9075\n",
      "Epoch 2/30\n",
      "33600/33600 [==============================] - 49s 1ms/step - loss: 0.5194 - acc: 0.8344 - val_loss: 0.1868 - val_acc: 0.9464\n",
      "Epoch 3/30\n",
      "33600/33600 [==============================] - 48s 1ms/step - loss: 0.4083 - acc: 0.8719 - val_loss: 0.1504 - val_acc: 0.9557\n",
      "Epoch 4/30\n",
      "33600/33600 [==============================] - 48s 1ms/step - loss: 0.3535 - acc: 0.8917 - val_loss: 0.1151 - val_acc: 0.9652\n",
      "Epoch 5/30\n",
      "33600/33600 [==============================] - 49s 1ms/step - loss: 0.3240 - acc: 0.9000 - val_loss: 0.1057 - val_acc: 0.9680\n",
      "Epoch 6/30\n",
      "33600/33600 [==============================] - 48s 1ms/step - loss: 0.3038 - acc: 0.9074 - val_loss: 0.0967 - val_acc: 0.9701\n",
      "Epoch 7/30\n",
      "33600/33600 [==============================] - 49s 1ms/step - loss: 0.2865 - acc: 0.9117 - val_loss: 0.0805 - val_acc: 0.9761\n",
      "Epoch 8/30\n",
      "33600/33600 [==============================] - 49s 1ms/step - loss: 0.2697 - acc: 0.9171 - val_loss: 0.0823 - val_acc: 0.9752\n",
      "Epoch 9/30\n",
      "33600/33600 [==============================] - 48s 1ms/step - loss: 0.2643 - acc: 0.9188 - val_loss: 0.0762 - val_acc: 0.9757\n",
      "Epoch 10/30\n",
      "33600/33600 [==============================] - 49s 1ms/step - loss: 0.2587 - acc: 0.9212 - val_loss: 0.0709 - val_acc: 0.9785\n",
      "Epoch 11/30\n",
      "33600/33600 [==============================] - 49s 1ms/step - loss: 0.2579 - acc: 0.9220 - val_loss: 0.0704 - val_acc: 0.9799\n",
      "Epoch 12/30\n",
      "33600/33600 [==============================] - 50s 1ms/step - loss: 0.2446 - acc: 0.9257 - val_loss: 0.0710 - val_acc: 0.9788\n",
      "Epoch 13/30\n",
      "33600/33600 [==============================] - 49s 1ms/step - loss: 0.2424 - acc: 0.9266 - val_loss: 0.0660 - val_acc: 0.9793\n",
      "Epoch 14/30\n",
      "33600/33600 [==============================] - 49s 1ms/step - loss: 0.2381 - acc: 0.9276 - val_loss: 0.0627 - val_acc: 0.9800\n",
      "Epoch 15/30\n",
      "33600/33600 [==============================] - 49s 1ms/step - loss: 0.2314 - acc: 0.9311 - val_loss: 0.0616 - val_acc: 0.9805\n",
      "Epoch 16/30\n",
      "33600/33600 [==============================] - 49s 1ms/step - loss: 0.2292 - acc: 0.9308 - val_loss: 0.0685 - val_acc: 0.9787\n",
      "Epoch 17/30\n",
      "33600/33600 [==============================] - 49s 1ms/step - loss: 0.2304 - acc: 0.9290 - val_loss: 0.0627 - val_acc: 0.9811\n",
      "Epoch 18/30\n",
      "33600/33600 [==============================] - 50s 1ms/step - loss: 0.2198 - acc: 0.9336 - val_loss: 0.0588 - val_acc: 0.9808\n",
      "Epoch 19/30\n",
      "33600/33600 [==============================] - 49s 1ms/step - loss: 0.2210 - acc: 0.9325 - val_loss: 0.0638 - val_acc: 0.9798\n",
      "Epoch 20/30\n",
      "33600/33600 [==============================] - 49s 1ms/step - loss: 0.2229 - acc: 0.9310 - val_loss: 0.0603 - val_acc: 0.9818\n",
      "Epoch 21/30\n",
      "33600/33600 [==============================] - 49s 1ms/step - loss: 0.2187 - acc: 0.9336 - val_loss: 0.0691 - val_acc: 0.9789\n",
      "Epoch 22/30\n",
      "33600/33600 [==============================] - 49s 1ms/step - loss: 0.2145 - acc: 0.9364 - val_loss: 0.0663 - val_acc: 0.9805\n",
      "Epoch 23/30\n",
      "33600/33600 [==============================] - 50s 1ms/step - loss: 0.2153 - acc: 0.9341 - val_loss: 0.0670 - val_acc: 0.9790\n",
      "Epoch 24/30\n",
      "33600/33600 [==============================] - 52s 2ms/step - loss: 0.2099 - acc: 0.9364 - val_loss: 0.0598 - val_acc: 0.9808\n",
      "Epoch 25/30\n",
      "33600/33600 [==============================] - 64s 2ms/step - loss: 0.2134 - acc: 0.9349 - val_loss: 0.0615 - val_acc: 0.9812\n",
      "Epoch 26/30\n",
      "33600/33600 [==============================] - 54s 2ms/step - loss: 0.2038 - acc: 0.9371 - val_loss: 0.0591 - val_acc: 0.9819\n",
      "Epoch 27/30\n",
      "33600/33600 [==============================] - 50s 2ms/step - loss: 0.2100 - acc: 0.9372 - val_loss: 0.0659 - val_acc: 0.9794\n",
      "Epoch 28/30\n",
      "33600/33600 [==============================] - 50s 1ms/step - loss: 0.2148 - acc: 0.9344 - val_loss: 0.0559 - val_acc: 0.9825\n",
      "Epoch 29/30\n",
      "33600/33600 [==============================] - 50s 1ms/step - loss: 0.2069 - acc: 0.9379 - val_loss: 0.0712 - val_acc: 0.9776\n",
      "Epoch 30/30\n",
      "33600/33600 [==============================] - 50s 1ms/step - loss: 0.2063 - acc: 0.9374 - val_loss: 0.0549 - val_acc: 0.9830\n"
     ]
    },
    {
     "data": {
      "text/plain": [
       "<tensorflow.python.keras.callbacks.History at 0x16b9ae0bf98>"
      ]
     },
     "execution_count": 7,
     "metadata": {},
     "output_type": "execute_result"
    }
   ],
   "source": [
    "model.fit(x=x_train,y=y_train,batch_size=128,epochs=30,validation_split=0.2)"
   ]
  },
  {
   "cell_type": "markdown",
   "metadata": {},
   "source": [
    "Predict test data,"
   ]
  },
  {
   "cell_type": "code",
   "execution_count": 8,
   "metadata": {},
   "outputs": [],
   "source": [
    "# prediction\n",
    "y_test=model.predict(x_test)\n",
    "# obtain the digit number from the max. of softmax output\n",
    "y2_test=np.argmax(y_test,axis=1)"
   ]
  },
  {
   "cell_type": "markdown",
   "metadata": {},
   "source": [
    "Define a custom plot function to plot 9 of the test images with corresponding predictions,"
   ]
  },
  {
   "cell_type": "code",
   "execution_count": 9,
   "metadata": {},
   "outputs": [],
   "source": [
    "def plotimg(images,labels):\n",
    "    assert len(images)==len(labels)==9\n",
    "    plt.figure(figsize=(10,10))\n",
    "    for i in range(9):\n",
    "        plt.subplot(3,3,i+1)\n",
    "        plt.imshow(images[i],cmap='gray')\n",
    "        plt.xlabel('prediction is: '+str(labels[i]))\n",
    "    plt.show()"
   ]
  },
  {
   "cell_type": "markdown",
   "metadata": {},
   "source": [
    "See the predictions for random 9 test data,"
   ]
  },
  {
   "cell_type": "code",
   "execution_count": 14,
   "metadata": {},
   "outputs": [
    {
     "data": {
      "image/png": "[encoded data removed]",
      "text/plain": [
       "<matplotlib.figure.Figure at 0x16b9b2fe400>"
      ]
     },
     "metadata": {},
     "output_type": "display_data"
    }
   ],
   "source": [
    "rand_idx=np.random.choice(np.arange(len(y2_test)), 9)\n",
    "plotimg(X_test[rand_idx,:,:,0],y2_test[rand_idx])"
   ]
  },
  {
   "cell_type": "markdown",
   "metadata": {},
   "source": [
    "Save prediction data to file,"
   ]
  },
  {
   "cell_type": "code",
   "execution_count": 15,
   "metadata": {},
   "outputs": [],
   "source": [
    "ids=[i for i in range(1,len(y_test)+1)]\n",
    "data=pd.DataFrame({'ImageId':ids, 'Label':y2_test})\n",
    "data.to_csv('submission.csv',index=False)"
   ]
  }
 ],
 "metadata": {
  "kernelspec": {
   "display_name": "Python 3",
   "language": "python",
   "name": "python3"
  },
  "language_info": {
   "codemirror_mode": {
    "name": "ipython",
    "version": 3
   },
   "file_extension": ".py",
   "mimetype": "text/x-python",
   "name": "python",
   "nbconvert_exporter": "python",
   "pygments_lexer": "ipython3",
   "version": "3.6.4"
  }
 },
 "nbformat": 4,
 "nbformat_minor": 2
}
